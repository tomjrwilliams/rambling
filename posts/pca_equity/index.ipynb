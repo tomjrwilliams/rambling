{
  "cells": [
    {
      "cell_type": "raw",
      "metadata": {},
      "source": [
        "---\n",
        "title: \"Example: PCA, Equity Returns\"\n",
        "author: \"Tom Williams\"\n",
        "date: \"2023-07-17\"\n",
        "categories: []\n",
        "draft: false\n",
        "---"
      ],
      "id": "4b2c09b1"
    },
    {
      "cell_type": "markdown",
      "metadata": {},
      "source": [
        "I'm currently working on open-sourcing some of the factor decomposition utilities that I use in my day-job.\n",
        "\n",
        "This post is a first simple example of how to use said utilities, in this case, to do a PCA decomposition of some daily equity returns data.\n",
        "\n",
        "## Setup\n"
      ],
      "id": "595c6bf2"
    },
    {
      "cell_type": "code",
      "metadata": {},
      "source": [
        "#| code-fold: true\n",
        "#| code-summary: \"Environment\"\n",
        "import os\n",
        "import sys\n",
        "import importlib\n",
        "sys.path.append(\"C:/hc/src\")\n",
        "os.environ[\"MODULE\"] = \"c:/hc/src/\""
      ],
      "id": "9a8b3a6e",
      "execution_count": null,
      "outputs": []
    },
    {
      "cell_type": "code",
      "metadata": {},
      "source": [
        "#| code-fold: true\n",
        "#| code-summary: \"Imports - stdlib\"\n",
        "import datetime\n",
        "import functools\n",
        "import itertools\n",
        "import numpy\n",
        "import pandas\n",
        "import jax"
      ],
      "id": "d10d8650",
      "execution_count": null,
      "outputs": []
    },
    {
      "cell_type": "code",
      "metadata": {},
      "source": [
        "#| code-fold: true\n",
        "#| code-summary: \"Imports - factors\"\n",
        "import core\n",
        "importlib.reload(core)\n",
        "import bt.data.prices.int\n",
        "core.import_from_file(\"xtuples\", \"C:/hc/xtuples/src/xtuples/__init__.py\")\n",
        "core.import_from_file(\"xtenors\", \"C:/hc/xtenors/src/xtenors/__init__.py\")\n",
        "core.import_from_file(\"xfactors\", \"C:/hc/xfactors/src/xfactors/__init__.py\")"
      ],
      "id": "cf7b1a73",
      "execution_count": null,
      "outputs": []
    },
    {
      "cell_type": "code",
      "metadata": {},
      "source": [
        "#| code-fold: true\n",
        "#| code-summary: \"Data\"\n",
        "date_start = datetime.date(2005, 1, 1)\n",
        "date_end = datetime.date(2023, 4, 1)\n",
        "df = bt.data.prices.int.returns_df(\n",
        "    date_start,\n",
        "    date_end,\n",
        "    indices=core.Array([\"SX5E Index\"]),\n",
        ")\n",
        "df"
      ],
      "id": "13998448",
      "execution_count": null,
      "outputs": []
    },
    {
      "cell_type": "markdown",
      "metadata": {},
      "source": [
        "## Setup"
      ],
      "id": "7f0f599b"
    }
  ],
  "metadata": {
    "kernelspec": {
      "name": "python3",
      "language": "python",
      "display_name": "Python 3 (ipykernel)"
    }
  },
  "nbformat": 4,
  "nbformat_minor": 5
}